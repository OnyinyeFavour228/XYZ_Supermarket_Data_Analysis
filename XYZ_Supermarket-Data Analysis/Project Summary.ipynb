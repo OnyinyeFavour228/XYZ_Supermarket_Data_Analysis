{
 "cells": [
  {
   "cell_type": "markdown",
   "id": "8e67fa5c",
   "metadata": {},
   "source": [
    "# Analysis of a Supermarket Data Across the Country - Company XYZ\n"
   ]
  },
  {
   "cell_type": "markdown",
   "id": "5620c515",
   "metadata": {},
   "source": [
    "Company XYZ owns a supermarket chain across the country. It has 3 major branches, each located in 3 cities across the country. The aim of this analysis is to help the company understand sales trends and determine its growth, as the rise of supermarkets competition is seen. The products sold in this supermarket fall under six categories; Electronic Accessories, Fashion Accessories, Food & Beverages, Health & Beauty, Home & Lifestyle, and Sports & Travel. The data used for this analysis was collected over the period of three months; January to March 2019."
   ]
  },
  {
   "cell_type": "markdown",
   "id": "4b3a0e88",
   "metadata": {},
   "source": [
    "## Project Steps\n"
   ]
  },
  {
   "cell_type": "markdown",
   "id": "a32aaa5e",
   "metadata": {},
   "source": [
    "* I imported and combined the data from the three branches using glob, loop and concatenation method.\n",
    "* I explored the data and generated a statistical summary of the data using some attribute functions.\n",
    "* I converted the Date and Time datatype from Object to Datetime datatype.\n",
    "* I generated the unique values in the categorical columns of the data.\n",
    "* I used groupby and aggregation function to create a table that shows the total gross income in each city.\n",
    "* I used different Seaborn visualization plots to examined the relationship and interaction of different columns in the data."
   ]
  },
  {
   "cell_type": "markdown",
   "id": "68d7e5e5",
   "metadata": {},
   "source": [
    "## Insights\n"
   ]
  },
  {
   "cell_type": "markdown",
   "id": "1d2ce8c2",
   "metadata": {},
   "source": [
    "* The customers gave an average shopping experience rating of 6.97.\n",
    "* The Lagos branch has the highest number of sales.\n",
    "* The Port Harcourt branch has the lowest number of sales but generates the highest gross income and has the highest average customer satisfaction rating.\n",
    "* The Abuja branch has the lowest average customer satisfactiion rating.\n",
    "* The least used payment method in all the branches is the Card method.\n",
    "* Epay method is the most used payment method in the Abuja and Lagos branch, while the Cash method is the most used payment method in the Port Harcourt branch.\n",
    "* The highest sold product line is the Fashion Accessories product line, while the least sold product line is the Health & Beauty product line.\n",
    "* The Card payment method is mostly for Food & Beverages, the Epay method is mostly for Fashion Accessories, while the Cash method is mostly for Electronics.\n",
    "* The Epay method is the most used payment method in Lagos and Abuja branch, and the Cash method is the most used payment method in Port Harcourt branch.\n",
    "* On average, female customers purchase more quantity of Home & Lifestyle products, while male customers purchase more quantity of Health & Beauty products.\n",
    "* The Electronics Accessories product line contains products with the least unit price which positively influences the quantity of products purchased in this product line.\n",
    "* The Fashion Accessories product line contains products with the highest unit price which negatively influences the quantity of products purchased in this product line.\n",
    "* The monthly total number of sales significantly reduced in the month of February.\n",
    "* The sales of Home & Lifestyle products and Sports & Travel products dropped drastically in the month of February.\n",
    "* There were, more Sport & Travel product sales in the month of January, more Food & Beverages product sales in the month of February and more Home & Lifestyle product sales in the month of March.\n",
    "* The sales of Home & Lifestyle products generated the highest gross income."
   ]
  },
  {
   "cell_type": "code",
   "execution_count": null,
   "id": "7b51f2af",
   "metadata": {},
   "outputs": [],
   "source": []
  }
 ],
 "metadata": {
  "kernelspec": {
   "display_name": "Python 3 (ipykernel)",
   "language": "python",
   "name": "python3"
  },
  "language_info": {
   "codemirror_mode": {
    "name": "ipython",
    "version": 3
   },
   "file_extension": ".py",
   "mimetype": "text/x-python",
   "name": "python",
   "nbconvert_exporter": "python",
   "pygments_lexer": "ipython3",
   "version": "3.9.12"
  }
 },
 "nbformat": 4,
 "nbformat_minor": 5
}
