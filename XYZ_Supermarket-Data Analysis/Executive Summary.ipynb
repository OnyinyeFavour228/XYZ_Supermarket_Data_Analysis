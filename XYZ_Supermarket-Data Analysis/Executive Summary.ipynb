{
 "cells": [
  {
   "cell_type": "markdown",
   "id": "6a95d709",
   "metadata": {},
   "source": [
    "# Executive Summary"
   ]
  },
  {
   "cell_type": "markdown",
   "id": "2f34d5e7",
   "metadata": {},
   "source": [
    "This is the analysis of company XYZ supermarket data. The supermarket has three main branches, each located in three cities; Abuja, Lagos, and Port Harcourt. The products sold in this supermarket fall under six categories; Electronic Accessories, Fashion Accessories, Food & Beverages, Health & Beauty, Home & Lifestyle, and Sports & Travel. The data used for this analysis was collected over the period of three months; January to March 2019. This aim of this analysis is to help the company understand sales trend and determine its growth as the rise of supermarket competitions is seen to increase "
   ]
  },
  {
   "cell_type": "markdown",
   "id": "5c25bddf",
   "metadata": {},
   "source": [
    "In order to help the company understand sales trend, I explored the data and generated a statistical summary of the data. Also, using different Seaborn visualization plots; I examined the relationship and interaction of different columns in the data. The insights are as follows.\n",
    "\n",
    "* The customers gave an average shopping experience rating of 6.97.\n",
    "* The Port Harcourt branch has the lowest number of sales but generates the highest gross income and has the highest average customer satisfaction rating.\n",
    "* The Abuja branch has the lowest average customer satisfactiion rating.\n",
    "* The highest sold product line is the Fashion Accessories product line, while the least sold product line is the Health & Beauty product line.\n",
    "* The Electronics Accessories product line contains products with the least unit price which positively influences the quantity of products purchased in this product line.\n",
    "* The Fashion Accessories product line contains products with the highest unit price which negatively influences the quantity of products purchased in this product line.\n",
    "* The sales of Home & Lifestyle products generated the highest gross income.\n",
    "* The monthly total number of sales significantly reduced in the month of February.\n",
    "* The sales of Home & Lifestyle products and Sports & Travel products dropped drastically in the month of February."
   ]
  }
 ],
 "metadata": {
  "kernelspec": {
   "display_name": "Python 3 (ipykernel)",
   "language": "python",
   "name": "python3"
  },
  "language_info": {
   "codemirror_mode": {
    "name": "ipython",
    "version": 3
   },
   "file_extension": ".py",
   "mimetype": "text/x-python",
   "name": "python",
   "nbconvert_exporter": "python",
   "pygments_lexer": "ipython3",
   "version": "3.9.12"
  }
 },
 "nbformat": 4,
 "nbformat_minor": 5
}
